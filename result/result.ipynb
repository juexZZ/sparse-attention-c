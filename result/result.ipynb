{
 "cells": [
  {
   "cell_type": "code",
   "execution_count": 27,
   "metadata": {},
   "outputs": [],
   "source": [
    "import glob\n",
    "import pandas as pd\n",
    "import numpy as np\n",
    "import matplotlib.pyplot as plt"
   ]
  },
  {
   "cell_type": "code",
   "execution_count": 28,
   "metadata": {},
   "outputs": [],
   "source": [
    "file_list=glob.glob('n32768d1024/*.out')\n",
    "columns=[\"nodes\",\"threads\",\"scatter time\",\"gather time\", \"cal time\", \"total time\", \"message size\"]\n",
    "result_df=pd.DataFrame(columns=columns)"
   ]
  },
  {
   "cell_type": "code",
   "execution_count": 29,
   "metadata": {},
   "outputs": [
    {
     "name": "stderr",
     "output_type": "stream",
     "text": [
      "/tmp/ipykernel_3344262/276773883.py:31: FutureWarning: The frame.append method is deprecated and will be removed from pandas in a future version. Use pandas.concat instead.\n",
      "  result_df=result_df.append(df_row,ignore_index=True)\n",
      "/tmp/ipykernel_3344262/276773883.py:31: FutureWarning: The frame.append method is deprecated and will be removed from pandas in a future version. Use pandas.concat instead.\n",
      "  result_df=result_df.append(df_row,ignore_index=True)\n",
      "/tmp/ipykernel_3344262/276773883.py:31: FutureWarning: The frame.append method is deprecated and will be removed from pandas in a future version. Use pandas.concat instead.\n",
      "  result_df=result_df.append(df_row,ignore_index=True)\n",
      "/tmp/ipykernel_3344262/276773883.py:31: FutureWarning: The frame.append method is deprecated and will be removed from pandas in a future version. Use pandas.concat instead.\n",
      "  result_df=result_df.append(df_row,ignore_index=True)\n",
      "/tmp/ipykernel_3344262/276773883.py:31: FutureWarning: The frame.append method is deprecated and will be removed from pandas in a future version. Use pandas.concat instead.\n",
      "  result_df=result_df.append(df_row,ignore_index=True)\n",
      "/tmp/ipykernel_3344262/276773883.py:31: FutureWarning: The frame.append method is deprecated and will be removed from pandas in a future version. Use pandas.concat instead.\n",
      "  result_df=result_df.append(df_row,ignore_index=True)\n",
      "/tmp/ipykernel_3344262/276773883.py:31: FutureWarning: The frame.append method is deprecated and will be removed from pandas in a future version. Use pandas.concat instead.\n",
      "  result_df=result_df.append(df_row,ignore_index=True)\n",
      "/tmp/ipykernel_3344262/276773883.py:31: FutureWarning: The frame.append method is deprecated and will be removed from pandas in a future version. Use pandas.concat instead.\n",
      "  result_df=result_df.append(df_row,ignore_index=True)\n",
      "/tmp/ipykernel_3344262/276773883.py:31: FutureWarning: The frame.append method is deprecated and will be removed from pandas in a future version. Use pandas.concat instead.\n",
      "  result_df=result_df.append(df_row,ignore_index=True)\n",
      "/tmp/ipykernel_3344262/276773883.py:31: FutureWarning: The frame.append method is deprecated and will be removed from pandas in a future version. Use pandas.concat instead.\n",
      "  result_df=result_df.append(df_row,ignore_index=True)\n",
      "/tmp/ipykernel_3344262/276773883.py:31: FutureWarning: The frame.append method is deprecated and will be removed from pandas in a future version. Use pandas.concat instead.\n",
      "  result_df=result_df.append(df_row,ignore_index=True)\n",
      "/tmp/ipykernel_3344262/276773883.py:31: FutureWarning: The frame.append method is deprecated and will be removed from pandas in a future version. Use pandas.concat instead.\n",
      "  result_df=result_df.append(df_row,ignore_index=True)\n",
      "/tmp/ipykernel_3344262/276773883.py:31: FutureWarning: The frame.append method is deprecated and will be removed from pandas in a future version. Use pandas.concat instead.\n",
      "  result_df=result_df.append(df_row,ignore_index=True)\n",
      "/tmp/ipykernel_3344262/276773883.py:31: FutureWarning: The frame.append method is deprecated and will be removed from pandas in a future version. Use pandas.concat instead.\n",
      "  result_df=result_df.append(df_row,ignore_index=True)\n",
      "/tmp/ipykernel_3344262/276773883.py:31: FutureWarning: The frame.append method is deprecated and will be removed from pandas in a future version. Use pandas.concat instead.\n",
      "  result_df=result_df.append(df_row,ignore_index=True)\n",
      "/tmp/ipykernel_3344262/276773883.py:31: FutureWarning: The frame.append method is deprecated and will be removed from pandas in a future version. Use pandas.concat instead.\n",
      "  result_df=result_df.append(df_row,ignore_index=True)\n"
     ]
    }
   ],
   "source": [
    "for file in file_list:\n",
    "    df_row={}\n",
    "    file_name=file\n",
    "    file_name=file_name.split('/')[1]\n",
    "    file_name=file_name.split('.')[0]\n",
    "    file_name=file_name.replace('n','')\n",
    "    file_name=file_name.replace('t','')\n",
    "    file_name=file_name.split('_')\n",
    "    df_row[\"nodes\"]=int(file_name[0])\n",
    "    df_row[\"threads\"]=int(file_name[1])\n",
    "    scatter_time=[]\n",
    "    gather_time=[]\n",
    "    cal_time=[]\n",
    "    total_time=[]\n",
    "    with open(file) as f:\n",
    "        for line in f:\n",
    "            if \"Scatter\" in line:\n",
    "                scatter_time.append(float(line.split(' ')[-1]))\n",
    "            if \"Gather\" in line:\n",
    "                gather_time.append(float(line.split(' ')[-1]))\n",
    "            if \"Calculation\" in line:\n",
    "                cal_time.append(float(line.split(' ')[-1]))\n",
    "            if \"Total time\" in line:\n",
    "                total_time.append(float(line.split(' ')[-1]))\n",
    "            if \"Total message size\" in line:\n",
    "                df_row[\"message size\"]=float(line.split(':')[1].replace('GB',''))\n",
    "    df_row[\"scatter time\"]=max(scatter_time)\n",
    "    df_row[\"gather time\"]=max(gather_time)\n",
    "    df_row[\"cal time\"]=max(cal_time)\n",
    "    df_row[\"total time\"]=max(total_time)\n",
    "    result_df=result_df.append(df_row,ignore_index=True)\n",
    "    "
   ]
  },
  {
   "cell_type": "code",
   "execution_count": 30,
   "metadata": {},
   "outputs": [
    {
     "data": {
      "text/plain": [
       "[<matplotlib.lines.Line2D at 0x7f1966e29cd0>]"
      ]
     },
     "execution_count": 30,
     "metadata": {},
     "output_type": "execute_result"
    },
    {
     "data": {
      "image/png": "[encoded data removed]",
      "text/plain": [
       "<Figure size 432x288 with 1 Axes>"
      ]
     },
     "metadata": {
      "needs_background": "light"
     },
     "output_type": "display_data"
    }
   ],
   "source": [
    "tempdf=result_df[(result_df[\"threads\"]==1)]\n",
    "tempdf=tempdf.sort_values(by=['nodes'])\n",
    "xdata=tempdf[\"nodes\"]\n",
    "ydata=tempdf[\"total time\"]\n",
    "plt.plot(xdata,ydata,label=\"1 thread\")"
   ]
  }
 ],
 "metadata": {
  "kernelspec": {
   "display_name": "base",
   "language": "python",
   "name": "python3"
  },
  "language_info": {
   "codemirror_mode": {
    "name": "ipython",
    "version": 3
   },
   "file_extension": ".py",
   "mimetype": "text/x-python",
   "name": "python",
   "nbconvert_exporter": "python",
   "pygments_lexer": "ipython3",
   "version": "3.9.12"
  },
  "orig_nbformat": 4
 },
 "nbformat": 4,
 "nbformat_minor": 2
}
